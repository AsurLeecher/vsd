{
  "cells": [
    {
      "cell_type": "code",
      "execution_count": null,
      "metadata": {
        "id": "JQMhqZ2CvisM"
      },
      "outputs": [],
      "source": [
        "# Mount Google Drive\n",
        "from google.colab import drive\n",
        "drive.mount(\"/content/drive\")"
      ]
    },
    {
      "cell_type": "code",
      "execution_count": null,
      "metadata": {
        "id": "-BikYlAEvmlD"
      },
      "outputs": [],
      "source": [
        "# Unmount Google Drive\n",
        "drive.flush_and_unmount()"
      ]
    },
    {
      "cell_type": "code",
      "execution_count": null,
      "metadata": {
        "cellView": "form",
        "id": "_lJkjDsMwHx8"
      },
      "outputs": [],
      "source": [
        "#@title VSD\n",
        "\n",
        "import shutil\n",
        "import os\n",
        "\n",
        "if shutil.which(\"vsd\") is None:\n",
        "  !wget https://github.com/clitic/vsd/releases/download/v0.1.2/vsd-v0.1.2-x86_64-unknown-linux-musl.tar.gz -O vsd-v0.1.2.tar.gz\n",
        "  !tar -xzf vsd-v0.1.2.tar.gz -C /usr/local/bin/\n",
        "  !chmod +x /usr/local/bin/vsd\n",
        "  !rm vsd-v0.1.2.tar.gz\n",
        "\n",
        "url = \"https://test-streams.mux.dev\" #@param {type:\"string\"}\n",
        "output = \"/content/drive/MyDrive/test-stream.mp4\" #@param {type:\"string\"}\n",
        "quality = \"select\" #@param [\"select\", \"sd\", \"hd\", \"fhd\", \"uhd\", \"uhd4k\", \"max\"]\n",
        "\n",
        "#@markdown **NOTE:** stream quality can be selected later if quality value is set to **select**.\n",
        "\n",
        "if not os.path.exists(\"/content/drive/MyDrive/\"):\n",
        "  os.makedirs(\"/content/drive/MyDrive/\")\n",
        "\n",
        "!vsd \"{url}\" --raw-prompts -o \"{output}\" -q \"{quality}\""
      ]
    }
  ],
  "metadata": {
    "colab": {
      "collapsed_sections": [],
      "name": "vsd-on-colab.ipynb",
      "provenance": []
    },
    "kernelspec": {
      "display_name": "Python 3",
      "name": "python3"
    },
    "language_info": {
      "name": "python"
    }
  },
  "nbformat": 4,
  "nbformat_minor": 0
}
